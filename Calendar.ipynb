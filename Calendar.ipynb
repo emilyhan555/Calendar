{
 "cells": [
  {
   "cell_type": "code",
   "execution_count": 2,
   "metadata": {},
   "outputs": [
    {
     "name": "stdout",
     "output_type": "stream",
     "text": [
      "Enter full year (e.g., 2001): 2019\n",
      "Enter month as number between 1 to 12: 1\n",
      "\n",
      "      January 2019\n",
      "---------------------------\n",
      "Sun Mon Tue Wed Thu Fri Sat\n",
      "        1   2   3   4   5   \n",
      "6   7   8   9   10  11  12  \n",
      "13  14  15  16  17  18  19  \n",
      "20  21  22  23  24  25  26  \n",
      "27  28  29  30  31  "
     ]
    }
   ],
   "source": [
    "def main():\n",
    "    year = int(input(\"Enter full year (e.g., 2001): \"))\n",
    "    month = int(input('Enter month as number between 1 to 12: '))\n",
    "    print()\n",
    "    \n",
    "    print_month(year, month)\n",
    "    month_body(year, month)\n",
    "    \n",
    "def print_month(year, month):\n",
    "    months = ['January','Feburary','March','April','May','June','July','August','September','October','Novernmber','Decemeber']\n",
    "    for i in range(1,1+len(months)):\n",
    "        if month == i:\n",
    "            print('     ',months[i-1],year)\n",
    "    print('---------------------------')\n",
    "    print('Sun Mon Tue Wed Thu Fri Sat')\n",
    "    \n",
    "def month_body(year, month):\n",
    "    startday = getStartDay(year, month)\n",
    "    numberOfDaysInMonth = getNumberOfDaysInMonth(year, month)\n",
    "    for i in range(startday):\n",
    "        if startday == 7:\n",
    "            print('', end = '')\n",
    "        else:\n",
    "            print('    ', end = '')\n",
    "    for j in range(1, numberOfDaysInMonth + 1):\n",
    "        if j < 10:\n",
    "            print(j, '  ', end = '')\n",
    "        if j >= 10:\n",
    "            print(j, ' ', end = '')\n",
    "        if (j + startday) % 7 == 0:\n",
    "            print()\n",
    "    \n",
    "def getStartDay(year, month):\n",
    "    start_day_for_Jan_1_1800 = 3\n",
    "    total = 0\n",
    "    numberofdays = 0\n",
    "    \n",
    "    for i in range(1800, year):\n",
    "        if isLeapyear(i) == True:\n",
    "            numberofyear = 366\n",
    "        else:\n",
    "            numberofyear = 365\n",
    "        total = total + numberofyear\n",
    "        \n",
    "    for j in range(1, month):\n",
    "        numberofdays = numberofdays + getNumberOfDaysInMonth(year,j)\n",
    "        \n",
    "    start_day = ((total + numberofdays + start_day_for_Jan_1_1800 - 1) % 7) + 1\n",
    "    return start_day\n",
    "            \n",
    "          \n",
    "def getNumberOfDaysInMonth(year, month): \n",
    "    if month == 1 or month == 3 or month == 5 or month == 7 or month == 8 or month == 10 or month ==12:\n",
    "        return 31\n",
    "    if month == 4 or month == 6 or month == 9 or month == 11:\n",
    "        return 30\n",
    "    if month == 2:\n",
    "        if isLeapyear(year) == True: \n",
    "            return 29\n",
    "        else:\n",
    "            return 28\n",
    "        \n",
    "def isLeapyear(year):\n",
    "    if year % 4 == 0 and year % 100 != 0 or year % 400 == 0:\n",
    "        return True\n",
    "    else:\n",
    "        return False\n",
    "    \n",
    "main()"
   ]
  },
  {
   "cell_type": "code",
   "execution_count": null,
   "metadata": {},
   "outputs": [],
   "source": []
  }
 ],
 "metadata": {
  "kernelspec": {
   "display_name": "Python 3",
   "language": "python",
   "name": "python3"
  },
  "language_info": {
   "codemirror_mode": {
    "name": "ipython",
    "version": 3
   },
   "file_extension": ".py",
   "mimetype": "text/x-python",
   "name": "python",
   "nbconvert_exporter": "python",
   "pygments_lexer": "ipython3",
   "version": "3.6.5"
  }
 },
 "nbformat": 4,
 "nbformat_minor": 2
}
